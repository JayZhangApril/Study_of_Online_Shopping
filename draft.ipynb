{
 "cells": [
  {
   "attachments": {},
   "cell_type": "markdown",
   "metadata": {},
   "source": [
    "The environment to run this file is VS Code,Jupyter Notebook,  python 3.8.10, other environment may cause bug or warning report"
   ]
  },
  {
   "cell_type": "code",
   "execution_count": null,
   "metadata": {},
   "outputs": [],
   "source": [
    "import pandas as pd\n",
    "from sklearn.preprocessing import StandardScaler\n",
    "from sklearn.decomposition import PCA\n",
    "import numpy as np\n",
    "from scipy.stats import shapiro\n",
    "from scipy.stats import norm, probplot\n",
    "from scipy.stats.mstats import rankdata\n",
    "import matplotlib.pyplot as plt\n",
    "import seaborn as sns\n",
    "import copy\n",
    "from prettytable import PrettyTable\n",
    "from sklearn.linear_model import LinearRegression\n"
   ]
  },
  {
   "cell_type": "code",
   "execution_count": null,
   "metadata": {},
   "outputs": [],
   "source": [
    "#Combine the dataset\n",
    "df_before = pd.read_csv('online_retail_II_B2010.csv')\n",
    "df_after = pd.read_csv('online_retail_II_After2010.csv')\n",
    "frame = [df_before,df_after]\n",
    "df = pd.concat(frame)\n",
    "#df.to_csv('online_retail_II.csv')"
   ]
  },
  {
   "cell_type": "code",
   "execution_count": null,
   "metadata": {},
   "outputs": [],
   "source": [
    "#understand dataset\n",
    "type = df.dtypes\n",
    "print(type,type.value_counts())\n"
   ]
  },
  {
   "cell_type": "code",
   "execution_count": null,
   "metadata": {},
   "outputs": [],
   "source": [
    "print(df.head())"
   ]
  },
  {
   "cell_type": "code",
   "execution_count": null,
   "metadata": {},
   "outputs": [],
   "source": [
    "print(df.shape)"
   ]
  },
  {
   "cell_type": "code",
   "execution_count": null,
   "metadata": {},
   "outputs": [],
   "source": [
    "df.isna().sum()"
   ]
  },
  {
   "cell_type": "code",
   "execution_count": null,
   "metadata": {},
   "outputs": [],
   "source": [
    "df_cleaned = df.dropna()"
   ]
  },
  {
   "cell_type": "code",
   "execution_count": null,
   "metadata": {},
   "outputs": [],
   "source": [
    "print('Below is the sum of the count of NA values for each columns after dropna')\n",
    "print(df_cleaned.isna().sum())"
   ]
  },
  {
   "cell_type": "code",
   "execution_count": null,
   "metadata": {},
   "outputs": [],
   "source": [
    "df_cleaned.shape"
   ]
  },
  {
   "cell_type": "code",
   "execution_count": null,
   "metadata": {},
   "outputs": [],
   "source": [
    "df_cleaned.head()"
   ]
  },
  {
   "attachments": {},
   "cell_type": "markdown",
   "metadata": {},
   "source": [
    "Drop duplicated"
   ]
  },
  {
   "cell_type": "code",
   "execution_count": null,
   "metadata": {},
   "outputs": [],
   "source": [
    "df_cleaned.duplicated().sum()"
   ]
  },
  {
   "cell_type": "code",
   "execution_count": null,
   "metadata": {},
   "outputs": [],
   "source": [
    "df_cleaned = df_cleaned.drop_duplicates()"
   ]
  },
  {
   "cell_type": "code",
   "execution_count": null,
   "metadata": {},
   "outputs": [],
   "source": [
    "df_cleaned.shape"
   ]
  },
  {
   "cell_type": "code",
   "execution_count": null,
   "metadata": {},
   "outputs": [],
   "source": [
    "df_cleaned.head()"
   ]
  },
  {
   "cell_type": "code",
   "execution_count": null,
   "metadata": {},
   "outputs": [],
   "source": [
    "df_cleaned.duplicated().sum()"
   ]
  },
  {
   "attachments": {},
   "cell_type": "markdown",
   "metadata": {},
   "source": [
    "Remove outliers\n"
   ]
  },
  {
   "cell_type": "code",
   "execution_count": null,
   "metadata": {},
   "outputs": [],
   "source": [
    "#calculate the bounds\n",
    "Q1 = df_cleaned.quantile(0.25)\n",
    "Q3 = df_cleaned.quantile(0.75)\n",
    "IQR = Q3 - Q1\n",
    "upper_bound = Q3 + 1.5*IQR\n",
    "lower_bound = Q1 - 1.5*IQR"
   ]
  },
  {
   "cell_type": "code",
   "execution_count": null,
   "metadata": {},
   "outputs": [],
   "source": [
    "#identify and remove the outliers\n",
    "outliers = (df_cleaned < lower_bound) | (df_cleaned > upper_bound)\n",
    "df_cleaned = df_cleaned[~outliers]"
   ]
  },
  {
   "cell_type": "code",
   "execution_count": null,
   "metadata": {},
   "outputs": [],
   "source": [
    "print('Below is showing how many outliers was removed in each columns: \\n',df_cleaned.isna().sum())"
   ]
  },
  {
   "cell_type": "code",
   "execution_count": null,
   "metadata": {},
   "outputs": [],
   "source": [
    "df_cleaned = df_cleaned.dropna()"
   ]
  },
  {
   "cell_type": "code",
   "execution_count": null,
   "metadata": {},
   "outputs": [],
   "source": [
    "df_cleaned.shape"
   ]
  },
  {
   "cell_type": "code",
   "execution_count": null,
   "metadata": {},
   "outputs": [],
   "source": [
    "df_cleaned.head()"
   ]
  },
  {
   "attachments": {},
   "cell_type": "markdown",
   "metadata": {},
   "source": [
    "Principal Component Analysis"
   ]
  },
  {
   "cell_type": "code",
   "execution_count": null,
   "metadata": {},
   "outputs": [],
   "source": [
    "\n",
    "df_cleaned['InvoiceDate'] = pd.to_datetime(df_cleaned['InvoiceDate'])\n"
   ]
  },
  {
   "cell_type": "code",
   "execution_count": null,
   "metadata": {},
   "outputs": [],
   "source": [
    "df_cleaned.head()"
   ]
  },
  {
   "cell_type": "code",
   "execution_count": null,
   "metadata": {},
   "outputs": [],
   "source": [
    "#Adding new column\n",
    "df_cleaned['Total_Sales'] = df_cleaned['Quantity'] * df_cleaned['Price']"
   ]
  },
  {
   "cell_type": "code",
   "execution_count": null,
   "metadata": {},
   "outputs": [],
   "source": [
    "df_2 = copy.deepcopy(df_cleaned)"
   ]
  },
  {
   "cell_type": "code",
   "execution_count": null,
   "metadata": {},
   "outputs": [],
   "source": [
    "#Standardize the numeric columns\n",
    "scaler = StandardScaler()\n",
    "num_cols = ['Quantity','Price','Customer ID','Total_Sales']\n",
    "df_cleaned[num_cols] = scaler.fit_transform(df_cleaned[num_cols])"
   ]
  },
  {
   "cell_type": "code",
   "execution_count": null,
   "metadata": {},
   "outputs": [],
   "source": [
    "X = df_cleaned[num_cols].values\n",
    "\n",
    "pca = PCA(n_components= 4)\n",
    "pca.fit(X)\n",
    "X_pca = pca.transform(X)\n",
    "explained = pca.explained_variance_ratio_\n",
    "print('Explained variance ratio:', explained)"
   ]
  },
  {
   "cell_type": "code",
   "execution_count": null,
   "metadata": {},
   "outputs": [],
   "source": [
    "cond_num = np.linalg.cond(X)\n",
    "print(\"Condition number:\", cond_num)\n",
    "singular_values = pca.singular_values_\n",
    "print(\"Singular values:\", singular_values)\n"
   ]
  },
  {
   "attachments": {},
   "cell_type": "markdown",
   "metadata": {},
   "source": [
    "Normality test"
   ]
  },
  {
   "cell_type": "code",
   "execution_count": null,
   "metadata": {},
   "outputs": [],
   "source": [
    "def normality_test(data,title,alpha):\n",
    "    stat, p = shapiro(data)\n",
    "    print(f'Test statistic: {stat}')\n",
    "    print(f'p-value: {p}')\n",
    "    print(f'The alpha for this test is {alpha}')\n",
    "    if p > alpha:\n",
    "        print(f'Sample {title} looks Gaussian (fail to reject H0)')\n",
    "    else:\n",
    "        print(f'Sample {title} does not look Gaussian (reject H0)')"
   ]
  },
  {
   "cell_type": "code",
   "execution_count": null,
   "metadata": {},
   "outputs": [],
   "source": [
    "normality_test(df_cleaned['Quantity'],'Quantity',0.05)"
   ]
  },
  {
   "cell_type": "code",
   "execution_count": null,
   "metadata": {},
   "outputs": [],
   "source": [
    "normality_test(df_cleaned['Price'],'Price',0.05)"
   ]
  },
  {
   "cell_type": "code",
   "execution_count": null,
   "metadata": {},
   "outputs": [],
   "source": [
    "normality_test(df_cleaned['Total_Sales'],'Total_Sales',0.05)"
   ]
  },
  {
   "attachments": {},
   "cell_type": "markdown",
   "metadata": {},
   "source": [
    "Data Transformation"
   ]
  },
  {
   "cell_type": "code",
   "execution_count": null,
   "metadata": {},
   "outputs": [],
   "source": [
    "#Data Transformation function\n",
    "def transfor(data):\n",
    "    z = norm.ppf(rankdata(data) / (len(data) + 1))\n",
    "    return z"
   ]
  },
  {
   "cell_type": "code",
   "execution_count": null,
   "metadata": {},
   "outputs": [],
   "source": [
    "#Apply the function to Quantity\n",
    "df_cleaned['Quantity_norm'] = transfor(df_cleaned['Quantity'])"
   ]
  },
  {
   "cell_type": "code",
   "execution_count": null,
   "metadata": {},
   "outputs": [],
   "source": [
    "#Apply the function to Price\n",
    "df_cleaned['Price_norm'] = transfor(df_cleaned['Price'])"
   ]
  },
  {
   "cell_type": "code",
   "execution_count": null,
   "metadata": {},
   "outputs": [],
   "source": [
    "#Apply the function to Total_Sales\n",
    "df_cleaned['Total_Sales_norm'] = transfor(df_cleaned['Total_Sales'])"
   ]
  },
  {
   "attachments": {},
   "cell_type": "markdown",
   "metadata": {},
   "source": [
    "#Quantity"
   ]
  },
  {
   "cell_type": "code",
   "execution_count": null,
   "metadata": {},
   "outputs": [],
   "source": [
    "#Plot the compare graphs\n",
    "fig, axs = plt.subplots(2, 2, figsize=(9, 7))\n",
    "\n",
    "axs[0, 0].plot(df_cleaned['Quantity'])\n",
    "axs[0, 0].set_title('Non-Gaussian Quantity')\n",
    "axs[0, 0].set_xlabel('# of Samples')\n",
    "axs[0, 0].set_ylabel('Magnitude')\n",
    "axs[0, 0].grid(True)\n",
    "\n",
    "axs[0, 1].plot(df_cleaned['Quantity_norm'])\n",
    "axs[0, 1].set_title('Transformed Quantity(Gaussian)')\n",
    "axs[0, 1].set_xlabel('# of Samples')\n",
    "axs[0, 1].set_ylabel('Magnitude')\n",
    "axs[0, 1].grid(True)\n",
    "\n",
    "axs[1, 0].hist(df_cleaned['Quantity'], bins=100)\n",
    "axs[1, 0].set_title('Histogram of Non-Gaussian Quantity')\n",
    "axs[1, 0].set_xlabel('Value')\n",
    "axs[1, 0].set_ylabel('Frequency')\n",
    "axs[1, 0].grid(True)\n",
    "\n",
    "axs[1, 1].hist(df_cleaned['Quantity_norm'], bins=100)\n",
    "axs[1, 1].set_title('Histogram of Transformed Quantity (Gaussian)')\n",
    "axs[1, 1].set_xlabel('Value')\n",
    "axs[1, 1].set_ylabel('Frequency')\n",
    "axs[1, 1].grid(True)\n",
    "\n",
    "fig.tight_layout()\n",
    "plt.show()"
   ]
  },
  {
   "cell_type": "code",
   "execution_count": null,
   "metadata": {},
   "outputs": [],
   "source": [
    "#QQ plot\n",
    "fig2, axs2 = plt.subplots(1, 2, figsize=(9, 3))\n",
    "probplot(df_cleaned['Quantity'], plot=axs2[0], dist='norm')\n",
    "axs2[0].set_title('Quantity Data: Non-Normal')\n",
    "axs2[0].set_xlabel('Theoretical Quantiles')\n",
    "axs2[0].set_ylabel('Sample Quantiles')\n",
    "axs2[0].grid(True)\n",
    "\n",
    "probplot(df_cleaned['Quantity_norm'], plot=axs2[1], dist='norm')\n",
    "axs2[1].set_title('Transformed Quantity: Normal')\n",
    "axs2[1].set_xlabel('Theoretical Quantiles')\n",
    "axs2[1].set_ylabel('Sample Quantiles')\n",
    "axs2[1].grid(True)\n",
    "\n",
    "fig2.tight_layout()\n",
    "plt.show()"
   ]
  },
  {
   "attachments": {},
   "cell_type": "markdown",
   "metadata": {},
   "source": [
    "#Price"
   ]
  },
  {
   "cell_type": "code",
   "execution_count": null,
   "metadata": {},
   "outputs": [],
   "source": [
    "#Plot the compare graphs\n",
    "fig, axs = plt.subplots(2, 2, figsize=(9, 7))\n",
    "\n",
    "axs[0, 0].plot(df_cleaned['Price'])\n",
    "axs[0, 0].set_title('Non-Gaussian Price')\n",
    "axs[0, 0].set_xlabel('# of Samples')\n",
    "axs[0, 0].set_ylabel('Magnitude')\n",
    "axs[0, 0].grid(True)\n",
    "\n",
    "axs[0, 1].plot(df_cleaned['Price_norm'])\n",
    "axs[0, 1].set_title('Transformed Price(Gaussian)')\n",
    "axs[0, 1].set_xlabel('# of Samples')\n",
    "axs[0, 1].set_ylabel('Magnitude')\n",
    "axs[0, 1].grid(True)\n",
    "\n",
    "axs[1, 0].hist(df_cleaned['Price'], bins=100)\n",
    "axs[1, 0].set_title('Histogram of Non-Gaussian Quantity')\n",
    "axs[1, 0].set_xlabel('Value')\n",
    "axs[1, 0].set_ylabel('Frequency')\n",
    "axs[1, 0].grid(True)\n",
    "\n",
    "axs[1, 1].hist(df_cleaned['Price_norm'], bins=100)\n",
    "axs[1, 1].set_title('Histogram of Transformed Price (Gaussian)')\n",
    "axs[1, 1].set_xlabel('Value')\n",
    "axs[1, 1].set_ylabel('Frequency')\n",
    "axs[1, 1].grid(True)\n",
    "\n",
    "fig.tight_layout()\n",
    "plt.show()"
   ]
  },
  {
   "cell_type": "code",
   "execution_count": null,
   "metadata": {},
   "outputs": [],
   "source": [
    "#QQ plot\n",
    "fig2, axs2 = plt.subplots(1, 2, figsize=(9, 3))\n",
    "probplot(df_cleaned['Price'], plot=axs2[0], dist='norm')\n",
    "axs2[0].set_title('Price Data: Non-Normal')\n",
    "axs2[0].set_xlabel('Theoretical Quantiles')\n",
    "axs2[0].set_ylabel('Sample Quantiles')\n",
    "axs2[0].grid(True)\n",
    "\n",
    "probplot(df_cleaned['Price_norm'], plot=axs2[1], dist='norm')\n",
    "axs2[1].set_title('Transformed Price: Normal')\n",
    "axs2[1].set_xlabel('Theoretical Quantiles')\n",
    "axs2[1].set_ylabel('Sample Quantiles')\n",
    "axs2[1].grid(True)\n",
    "\n",
    "fig2.tight_layout()\n",
    "plt.show()"
   ]
  },
  {
   "attachments": {},
   "cell_type": "markdown",
   "metadata": {},
   "source": [
    "#Total_Sale"
   ]
  },
  {
   "cell_type": "code",
   "execution_count": null,
   "metadata": {},
   "outputs": [],
   "source": [
    "#Plot the compare graphs\n",
    "fig, axs = plt.subplots(2, 2, figsize=(9, 7))\n",
    "\n",
    "axs[0, 0].plot(df_cleaned['Total_Sales'])\n",
    "axs[0, 0].set_title('Non-Gaussian Total Sales')\n",
    "axs[0, 0].set_xlabel('# of Samples')\n",
    "axs[0, 0].set_ylabel('Magnitude')\n",
    "axs[0, 0].grid(True)\n",
    "\n",
    "axs[0, 1].plot(df_cleaned['Total_Sales_norm'])\n",
    "axs[0, 1].set_title('Transformed Total Sales(Gaussian)')\n",
    "axs[0, 1].set_xlabel('# of Samples')\n",
    "axs[0, 1].set_ylabel('Magnitude')\n",
    "axs[0, 1].grid(True)\n",
    "\n",
    "axs[1, 0].hist(df_cleaned['Total_Sales'], bins=100)\n",
    "axs[1, 0].set_title('Histogram of Non-Gaussian Total Sales')\n",
    "axs[1, 0].set_xlabel('Value')\n",
    "axs[1, 0].set_ylabel('Frequency')\n",
    "axs[1, 0].grid(True)\n",
    "\n",
    "axs[1, 1].hist(df_cleaned['Total_Sales_norm'], bins=100)\n",
    "axs[1, 1].set_title('Histogram of Transformed Total Sales (Gaussian)')\n",
    "axs[1, 1].set_xlabel('Value')\n",
    "axs[1, 1].set_ylabel('Frequency')\n",
    "axs[1, 1].grid(True)\n",
    "\n",
    "fig.tight_layout()\n",
    "plt.show()"
   ]
  },
  {
   "cell_type": "code",
   "execution_count": null,
   "metadata": {},
   "outputs": [],
   "source": [
    "#QQ plot\n",
    "fig2, axs2 = plt.subplots(1, 2, figsize=(9, 3))\n",
    "probplot(df_cleaned['Total_Sales'], plot=axs2[0], dist='norm')\n",
    "axs2[0].set_title('Total Sales Data: Non-Normal')\n",
    "axs2[0].set_xlabel('Theoretical Quantiles')\n",
    "axs2[0].set_ylabel('Sample Quantiles')\n",
    "axs2[0].grid(True)\n",
    "\n",
    "probplot(df_cleaned['Total_Sales_norm'], plot=axs2[1], dist='norm')\n",
    "axs2[1].set_title('Transformed Total Sales: Normal')\n",
    "axs2[1].set_xlabel('Theoretical Quantiles')\n",
    "axs2[1].set_ylabel('Sample Quantiles')\n",
    "axs2[1].grid(True)\n",
    "\n",
    "fig2.tight_layout()\n",
    "plt.show()"
   ]
  },
  {
   "attachments": {},
   "cell_type": "markdown",
   "metadata": {},
   "source": [
    "Heatmap & Pearson correlation coefficient matrix:"
   ]
  },
  {
   "cell_type": "code",
   "execution_count": null,
   "metadata": {},
   "outputs": [],
   "source": [
    "df_2.head()"
   ]
  },
  {
   "cell_type": "code",
   "execution_count": null,
   "metadata": {},
   "outputs": [],
   "source": [
    "# drop unwanted columns and plot the graph\n",
    "temp = df_2\n",
    "\n"
   ]
  },
  {
   "cell_type": "code",
   "execution_count": null,
   "metadata": {},
   "outputs": [],
   "source": [
    "temp.dtypes"
   ]
  },
  {
   "cell_type": "code",
   "execution_count": null,
   "metadata": {},
   "outputs": [],
   "source": [
    "temp = temp.drop(columns= ['Invoice','InvoiceDate','StockCode','Description','Country'])\n",
    "temp.head()"
   ]
  },
  {
   "cell_type": "code",
   "execution_count": null,
   "metadata": {},
   "outputs": [],
   "source": [
    "corr_matrix = np.corrcoef(temp, rowvar=False)\n",
    "fig, ax = plt.subplots(figsize=(10, 10)\n",
    ")\n",
    "sns.heatmap(corr_matrix, annot=True,xticklabels=temp.columns[0:],yticklabels=temp.columns[0:], fmt=\".2f\", square=True, ax=ax)\n",
    "ax.set_title(\"Correlation Coefficient between features\")\n",
    "plt.show()"
   ]
  },
  {
   "attachments": {},
   "cell_type": "markdown",
   "metadata": {},
   "source": [
    "Statistics"
   ]
  },
  {
   "cell_type": "code",
   "execution_count": null,
   "metadata": {},
   "outputs": [],
   "source": [
    "# List unique values in certain columns\n",
    "df_2.tail()"
   ]
  },
  {
   "cell_type": "code",
   "execution_count": null,
   "metadata": {},
   "outputs": [],
   "source": [
    "df_2.count()"
   ]
  },
  {
   "cell_type": "code",
   "execution_count": null,
   "metadata": {},
   "outputs": [],
   "source": [
    "# number of purchases made \n",
    "df_2['Invoice'].nunique()"
   ]
  },
  {
   "cell_type": "code",
   "execution_count": null,
   "metadata": {},
   "outputs": [],
   "source": [
    "df_2['StockCode'].nunique()"
   ]
  },
  {
   "cell_type": "code",
   "execution_count": null,
   "metadata": {},
   "outputs": [],
   "source": [
    "df['Price'].max()"
   ]
  },
  {
   "cell_type": "code",
   "execution_count": null,
   "metadata": {},
   "outputs": [],
   "source": [
    "sorted_df = df.sort_values('Price', ascending=False)\n",
    "sorted_df.head(10)"
   ]
  },
  {
   "cell_type": "code",
   "execution_count": null,
   "metadata": {},
   "outputs": [],
   "source": [
    "df_2['Price'].min()"
   ]
  },
  {
   "cell_type": "code",
   "execution_count": null,
   "metadata": {},
   "outputs": [],
   "source": [
    "sorted_df = df.sort_values('Price', ascending=True)\n",
    "sorted_df.head(5)"
   ]
  },
  {
   "cell_type": "code",
   "execution_count": null,
   "metadata": {},
   "outputs": [],
   "source": [
    "df_2['Country'].unique()"
   ]
  },
  {
   "cell_type": "code",
   "execution_count": null,
   "metadata": {},
   "outputs": [],
   "source": [
    "#Split by country\n",
    "# UK = df[df['Country'] == 'United Kingdom']\n",
    "# France = df[df['Country'] == 'France']\n",
    "# Australia = df[df['Country'] == 'Australia']\n",
    "# EIRE = df[df['Country'] == 'EIRE']\n",
    "# Germany = df[df['Country'] == 'Germany']\n",
    "# Portugal = df[df['Country'] == 'Portugal']\n",
    "# Poland = df[df['Country'] == 'Poland']\n",
    "# Spain = df[df['Country'] == 'Spain']\n",
    "# Channel_Islands = df[df['Country'] == 'Channel Islands']\n",
    "# Netherlands = df[df['Country'] == 'Netherlands']\n",
    "# Italy = df[df['Country'] == 'Italy']\n",
    "# Cyprus = df[df['Country'] == 'Cyprus']\n",
    "# Belgium = df[df['Country'] == 'Belgium']\n",
    "# Greece = df[df['Country'] == 'Greece']\n",
    "# Norway = df[df['Country'] == 'Norway']\n",
    "# Austria = df[df['Country'] == 'Austria']\n",
    "# Denmark = df[df['Country'] == 'Denmark']\n",
    "# United_Arab_Emirates = df[df['Country'] == 'United Arab Emirates']\n",
    "# Finland = df[df['Country'] == 'Finland']\n",
    "# Switzerland = df[df['Country'] == 'Switzerland']\n",
    "# Sweden = df[df['Country'] == 'Sweden']\n",
    "# USA = df[df['Country'] == 'USA']\n",
    "# Japan = df[df['Country'] == 'Japan']\n",
    "# Unspecified = df[df['Country'] == 'Unspecified']\n",
    "# Malta = df[df['Country'] == 'Malta']\n",
    "# RSA = df[df['Country'] == 'RSA']\n",
    "# Singapore = df[df['Country'] == 'Singapore']\n",
    "# Bahrain = df[df['Country'] == 'Bahrain']\n",
    "# Israel = df[df['Country'] == 'Israel']\n",
    "# Thailand = df[df['Country'] == 'Thailand']\n",
    "# Lithuania = df[df['Country'] == 'Lithuania']\n",
    "# Nigeria = df[df['Country'] == 'Nigeria']\n",
    "# West_ndies = df[df['Country'] == 'West Indies']\n",
    "# Korea = df[df['Country'] == 'Korea']\n",
    "# Brazil = df[df['Country'] == 'Brazil']\n",
    "# Canada = df[df['Country'] == 'Canada']\n",
    "# Iceland = df[df['Country'] == 'Iceland']\n",
    "# Lebanon = df[df['Country'] == 'Lebanon']\n",
    "# Saudi_Arabia = df[df['Country'] == 'Saudi Arabia']\n",
    "# Czech_Republic = df[df['Country'] == 'Czech Republic']\n",
    "# European_Community = df[df['Country'] == 'European Community']\n",
    "\n",
    "\n",
    "\n",
    "\n"
   ]
  },
  {
   "cell_type": "code",
   "execution_count": null,
   "metadata": {},
   "outputs": [],
   "source": [
    "stats_df = df_2.groupby('Country').agg({'Quantity': ['mean', 'median', 'var'],\n",
    "                                      'Price': ['mean', 'median', 'var'],\n",
    "                                      'Total_Sales': ['mean', 'median', 'var']})\n",
    "table = PrettyTable()\n",
    "table.field_names = ['Country', 'Quantity Mean', 'Quantity Median', 'Quantity Variance', \n",
    "                     'Price Mean', 'Price Median', 'Price Variance',\n",
    "                     'Total Sales Mean', 'Total Sales Median', 'Total Sales Variance']\n",
    "for index, row in stats_df.iterrows():\n",
    "    table.add_row([index, \n",
    "                   round(row['Quantity']['mean'], 2), \n",
    "                   round(row['Quantity']['median'],2), \n",
    "                   round(row['Quantity']['var'], 2), \n",
    "                   round(row['Price']['mean'], 2), \n",
    "                   round(row['Price']['median'],2), \n",
    "                   round(row['Price']['var'], 2),\n",
    "                   round(row['Total_Sales']['mean'], 2), \n",
    "                   round(row['Total_Sales']['median'],2), \n",
    "                   round(row['Total_Sales']['var'], 2)])\n",
    "highest_quantity = stats_df['Quantity']['mean'].idxmax()\n",
    "lowest_quantity = stats_df['Quantity']['mean'].idxmin()\n",
    "highest_price = stats_df['Price']['mean'].idxmax()\n",
    "lowest_price = stats_df['Price']['mean'].idxmin()\n",
    "highest_sales = stats_df['Total_Sales']['mean'].idxmax()\n",
    "lowest_sales = stats_df['Total_Sales']['mean'].idxmin()\n",
    "table.add_row(['Highest', highest_quantity, highest_quantity, highest_quantity, \n",
    "               highest_price, highest_price, highest_price, \n",
    "               highest_sales, highest_sales, highest_sales])\n",
    "table.add_row(['Lowest', lowest_quantity, lowest_quantity, lowest_quantity, \n",
    "               lowest_price, lowest_price, lowest_price, \n",
    "               lowest_sales, lowest_sales, lowest_sales])\n",
    "table.title = 'Statistics Comparison'\n",
    "print(table)\n"
   ]
  },
  {
   "cell_type": "code",
   "execution_count": null,
   "metadata": {},
   "outputs": [],
   "source": [
    "df_2['InvoiceYear'] = df_2['InvoiceDate'].dt.year\n"
   ]
  },
  {
   "cell_type": "code",
   "execution_count": null,
   "metadata": {},
   "outputs": [],
   "source": [
    "for year in df_2['InvoiceYear'].unique():\n",
    "    for country in df_2['Country'].unique():\n",
    "        temp = df_2[(df_2['InvoiceYear'] == year) & (df_2['Country'] == country)]\n",
    "        if len(temp) == 0:\n",
    "            print(f\"No data for {year}, {country}\")\n",
    "        else:\n",
    "            popular_product = temp['Description'].value_counts().index[0]\n",
    "            total_sales = temp['Total_Sales'].sum()\n",
    "            avg_price = temp['Price'].mean()\n",
    "            print(f\"In {year}, {country}, the most popular product was {popular_product} with total sales of {total_sales:.2f} and average price of {avg_price:.2f}\")\n",
    "\n"
   ]
  },
  {
   "cell_type": "code",
   "execution_count": null,
   "metadata": {},
   "outputs": [],
   "source": [
    "table = PrettyTable()\n",
    "table.field_names = [\"Year\", \"Country\", \"Popular Product\", \"Total Sales\", \"Avg. Price\"]\n",
    "for year in df_2['InvoiceYear'].unique():\n",
    "    for country in df_2['Country'].unique():\n",
    "        temp = df_2[(df_2['InvoiceYear'] == year) & (df_2['Country'] == country)]\n",
    "        if len(temp) == 0:\n",
    "            table.add_row([year, country, \"No Data\", \"N/A\", \"N/A\"])\n",
    "        else:\n",
    "            popular_product = temp['Description'].value_counts().index[0]\n",
    "            total_sales = temp['Total_Sales'].sum()\n",
    "            avg_price = temp['Price'].mean()\n",
    "            table.add_row([year, country, popular_product, f\"{total_sales:.2f}\", f\"{avg_price:.2f}\"])\n",
    "print(table)"
   ]
  },
  {
   "cell_type": "code",
   "execution_count": null,
   "metadata": {},
   "outputs": [],
   "source": [
    "years = sorted(df_2['InvoiceYear'].unique())\n",
    "\n",
    "for year in years:\n",
    "    table = PrettyTable()\n",
    "    table.title = f\"Year {year}\"\n",
    "    table.field_names = [\"Country\", \"Most Popular Product\", \"Total Sales\", \"Average Price\"]\n",
    "    \n",
    "    countries = sorted(df_2[df_2['InvoiceYear'] == year]['Country'].unique())\n",
    "    \n",
    "    for country in countries:\n",
    "        temp = df_2[(df_2['InvoiceYear'] == year) & (df_2['Country'] == country)]\n",
    "        \n",
    "        if len(temp) == 0:\n",
    "            continue\n",
    "        \n",
    "        popular_product = temp['Description'].value_counts().index[0]\n",
    "        total_sales = temp['Total_Sales'].sum()\n",
    "        avg_price = temp['Price'].mean()\n",
    "        \n",
    "        table.add_row([country, popular_product, f\"{total_sales:.2f}\", f\"{avg_price:.2f}\"])\n",
    "    \n",
    "    print(table)"
   ]
  },
  {
   "cell_type": "code",
   "execution_count": null,
   "metadata": {},
   "outputs": [],
   "source": [
    "#kde\n",
    "cols = ['Quantity', 'Price', 'Total_Sales']\n",
    "fig, ax = plt.subplots(figsize=(14, 9))\n",
    "sns.set(style=\"darkgrid\")\n",
    "sns.kdeplot(data=df_2[cols], fill=True)\n",
    "plt.xlim(0,100)\n",
    "plt.title('Multivariate Kernel Density Estimate')\n",
    "plt.xlabel('Values')\n",
    "plt.ylabel('Density')\n",
    "plt.legend(title='Variables', loc='upper right', labels=cols)\n",
    "plt.show()"
   ]
  },
  {
   "attachments": {},
   "cell_type": "markdown",
   "metadata": {},
   "source": [
    "Data Visualization"
   ]
  },
  {
   "cell_type": "code",
   "execution_count": null,
   "metadata": {},
   "outputs": [],
   "source": [
    "#Bar Plot\n",
    "plt.figure(figsize=(16,9))\n",
    "grouped_data = df_2.groupby(['Country', 'InvoiceYear']).agg({'Total_Sales': 'sum'}).reset_index()\n",
    "sns.set(style='whitegrid')\n",
    "ax = sns.barplot(x='Country', y='Total_Sales', hue='InvoiceYear', data=grouped_data, palette='Set2')\n",
    "ax.set_xticklabels(ax.get_xticklabels(), rotation=45, ha='right')\n",
    "plt.title('Total Sales by Country and Year')\n",
    "plt.xlabel('Country')\n",
    "plt.ylabel('Total Sales')\n",
    "plt.show()"
   ]
  },
  {
   "cell_type": "code",
   "execution_count": null,
   "metadata": {},
   "outputs": [],
   "source": [
    "#Filter out UK\n",
    "grouped_data = grouped_data[grouped_data['Country'] != 'United Kingdom']\n",
    "plt.figure(figsize=(16,9))\n",
    "ax = sns.barplot(x='Country', y='Total_Sales', hue='InvoiceYear', data=grouped_data, palette='Set2', errorbar=None)\n",
    "ax.set_xticklabels(ax.get_xticklabels(), rotation=45, ha='right')\n",
    "plt.title('Total Sales by Country and Year (Without United Kingdom)')\n",
    "plt.xlabel('Country')\n",
    "plt.ylabel('Total Sales')\n",
    "plt.show()\n",
    "\n",
    "\n",
    "\n",
    "\n",
    "\n",
    "\n"
   ]
  },
  {
   "cell_type": "code",
   "execution_count": null,
   "metadata": {},
   "outputs": [],
   "source": [
    "#Pie plot\n",
    "df_2009 = df_2[df_2['InvoiceYear'] == 2009]\n",
    "df_2010 = df_2[df_2['InvoiceYear'] == 2010]\n",
    "df_2011 = df_2[df_2['InvoiceYear'] == 2011]\n",
    "fig, axes = plt.subplots(nrows=1, ncols=3, figsize=(16,9))\n",
    "palette_2009 = sns.color_palette('pastel')[0:10]\n",
    "palette_2010 = sns.color_palette('pastel')[1:11]\n",
    "palette_2011 = sns.color_palette('pastel')[2:12]\n",
    "sns.set(style='whitegrid')\n",
    "sns.set_palette(palette_2009)\n",
    "axes[0].pie(df_2009['Country'].value_counts(), labels=None, autopct=lambda pct: f\"{pct:.1f}%\" if pct > 0.9 else '')\n",
    "axes[0].set_title('2009')\n",
    "sns.set_palette(palette_2010)\n",
    "axes[1].pie(df_2010['Country'].value_counts(), labels=None, autopct=lambda pct: f\"{pct:.1f}%\" if pct > 0.9 else '')\n",
    "axes[1].set_title('2010')\n",
    "sns.set_palette(palette_2011)\n",
    "axes[2].pie(df_2011['Country'].value_counts(), labels=None, autopct=lambda pct: f\"{pct:.1f}%\" if pct > 0.9 else '')\n",
    "axes[2].set_title('2011')\n",
    "fig.suptitle('Distribution of Sales by Country (Pie Charts)')\n",
    "plt.legend(labels=df_2['Country'].unique(),loc='center left', bbox_to_anchor=(1.1, 0.5), fontsize=10)\n",
    "plt.show()\n"
   ]
  },
  {
   "cell_type": "code",
   "execution_count": null,
   "metadata": {},
   "outputs": [],
   "source": [
    "#Count plot \n",
    "df_2['InvoiceMonth'] = df_2['InvoiceDate'].dt.month\n",
    "\n",
    "sns.set_style('whitegrid')\n",
    "plt.figure(figsize=(12,6))\n",
    "sns.countplot(x='Country', data=df_2, order=df_2['Country'].value_counts().index)\n",
    "plt.xticks(rotation=90)\n",
    "plt.title('Number of Sales by Country')\n",
    "plt.show()\n"
   ]
  },
  {
   "cell_type": "code",
   "execution_count": null,
   "metadata": {},
   "outputs": [],
   "source": [
    "df_2_noUK = df_2[df_2['Country'] != 'United Kingdom']\n",
    "sns.set_style('whitegrid')\n",
    "plt.figure(figsize=(12,6))\n",
    "sns.countplot(x='Country', data=df_2_noUK, hue = 'InvoiceYear',order=df_2_noUK['Country'].value_counts().index)\n",
    "plt.xticks(rotation=90)\n",
    "plt.title('Number of Sales by Country (Removed UK)')\n",
    "plt.show()"
   ]
  },
  {
   "cell_type": "code",
   "execution_count": null,
   "metadata": {},
   "outputs": [],
   "source": [
    "sns.set_style('whitegrid')\n",
    "fig, axes = plt.subplots(nrows=1, ncols=3, figsize=(16,6))\n",
    "sns.countplot(x='Country', data=df_2_noUK[df_2_noUK['InvoiceYear']==2009], order=df_2_noUK['Country'].value_counts().index, ax=axes[0])\n",
    "sns.countplot(x='Country', data=df_2_noUK[df_2_noUK['InvoiceYear']==2010], order=df_2_noUK['Country'].value_counts().index, ax=axes[1])\n",
    "sns.countplot(x='Country', data=df_2_noUK[df_2_noUK['InvoiceYear']==2011], order=df_2_noUK['Country'].value_counts().index, ax=axes[2])\n",
    "for i, year in enumerate([2009, 2010, 2011]):\n",
    "    axes[i].set_xticklabels(axes[i].get_xticklabels(), rotation=90)\n",
    "    axes[i].set_xlabel('Country')\n",
    "    axes[i].set_ylabel('Count')\n",
    "    axes[i].set_title(f'Number of Sales by Country ({year})')\n",
    "plt.tight_layout()\n",
    "plt.show()"
   ]
  },
  {
   "cell_type": "code",
   "execution_count": null,
   "metadata": {},
   "outputs": [],
   "source": [
    "#Cat-plot\n",
    "fig = sns.catplot(x='InvoiceYear', y='Quantity', data=df_2_noUK, kind='box', height=5, aspect=2)\n",
    "fig.set(title = 'Cat-plot(box plot) of quantity')\n",
    "plt.show()\n"
   ]
  },
  {
   "cell_type": "code",
   "execution_count": null,
   "metadata": {},
   "outputs": [],
   "source": [
    "fig = sns.catplot(x='InvoiceYear', y='Price', data=df_2_noUK, kind='box', height=5, aspect=2)\n",
    "fig.set(title = 'Cat-plot(box plot) of Price')\n",
    "plt.show()"
   ]
  },
  {
   "cell_type": "code",
   "execution_count": null,
   "metadata": {},
   "outputs": [],
   "source": [
    "fig = sns.catplot(x='InvoiceYear', y='Total_Sales', data=df_2_noUK, kind='box', height=5, aspect=2)\n",
    "fig.set(title = 'Cat-plot(box plot) of Total Sales')\n",
    "plt.show()"
   ]
  },
  {
   "cell_type": "code",
   "execution_count": null,
   "metadata": {},
   "outputs": [],
   "source": [
    "fig = sns.catplot(x='InvoiceYear', y='Quantity', data=df_2, kind='violin', height=5, aspect=2)\n",
    "fig.set(title = 'Cat-plot(violin plot) of Quantity')\n",
    "plt.show()"
   ]
  },
  {
   "cell_type": "code",
   "execution_count": null,
   "metadata": {},
   "outputs": [],
   "source": [
    "fig = sns.catplot(x='InvoiceYear', y='Price', data=df_2, kind='violin', height=5, aspect=2)\n",
    "fig.set(title = 'Cat-plot(violin plot) of Price')\n",
    "plt.show()"
   ]
  },
  {
   "cell_type": "code",
   "execution_count": null,
   "metadata": {},
   "outputs": [],
   "source": [
    "fig = sns.catplot(x='InvoiceYear', y='Total_Sales', data=df_2, kind='violin', height=5, aspect=2)\n",
    "fig.set(title = 'Cat-plot(violin plot) of Total Sales')\n",
    "plt.show()"
   ]
  },
  {
   "cell_type": "code",
   "execution_count": null,
   "metadata": {},
   "outputs": [],
   "source": [
    "fig = sns.catplot(x='InvoiceYear', y='Quantity', data=df_2,  height=5, aspect=2)\n",
    "fig.set(title = 'Cat-plot(scatter plot) of Quantity')\n",
    "plt.show()"
   ]
  },
  {
   "cell_type": "code",
   "execution_count": null,
   "metadata": {},
   "outputs": [],
   "source": [
    "fig = sns.catplot(x='InvoiceYear', y='Price', data=df_2,  height=5, aspect=2)\n",
    "fig.set(title = 'Cat-plot(scatter plot) of Price')\n",
    "plt.show()"
   ]
  },
  {
   "cell_type": "code",
   "execution_count": null,
   "metadata": {},
   "outputs": [],
   "source": [
    "fig = sns.catplot(x='InvoiceYear', y='Total_Sales', data=df_2,  height=5, aspect=2)\n",
    "fig.set(title = 'Cat-plot(scatter plot) of Total Sales')\n",
    "plt.show()"
   ]
  },
  {
   "attachments": {},
   "cell_type": "markdown",
   "metadata": {},
   "source": [
    "Displot"
   ]
  },
  {
   "cell_type": "code",
   "execution_count": null,
   "metadata": {},
   "outputs": [],
   "source": [
    "sns.set_style('darkgrid')\n",
    "fig, axes = plt.subplots(nrows=1, ncols=3, figsize=(24, 9))\n",
    "sns.histplot(data=df_2, x='Quantity', bins=50, kde=True, ax=axes[0])\n",
    "sns.histplot(data=df_2, x='Price', bins=50, kde=True, ax=axes[1])\n",
    "sns.histplot(data=df_2, x='Total_Sales', bins=50, kde=True, ax=axes[2])\n",
    "\n",
    "axes[0].set(title='Distribution of Quantity')\n",
    "axes[0].set(xlabel='Quantity', ylabel='Count')\n",
    "axes[1].set(title='Distribution of Price')\n",
    "axes[1].set(xlabel='Price', ylabel='Count')\n",
    "axes[2].set(title='Distribution of Total Sales')\n",
    "axes[2].set(xlabel='Total Sales', ylabel='Count')\n",
    "\n",
    "plt.tight_layout()\n",
    "plt.show()\n"
   ]
  },
  {
   "attachments": {},
   "cell_type": "markdown",
   "metadata": {},
   "source": [
    "Line plot"
   ]
  },
  {
   "cell_type": "code",
   "execution_count": null,
   "metadata": {},
   "outputs": [],
   "source": [
    "\n",
    "temp_sales_sum = df_2.groupby(['InvoiceYear', 'InvoiceMonth'])['Total_Sales'].sum().reset_index()\n",
    "temp_sales_mean = df_2.groupby(['InvoiceYear', 'InvoiceMonth'])['Total_Sales'].mean().reset_index()\n",
    "temp_qty_sum = df_2.groupby(['InvoiceYear', 'InvoiceMonth'])['Quantity'].sum().reset_index()\n",
    "temp_qty_mean = df_2.groupby(['InvoiceYear', 'InvoiceMonth'])['Quantity'].mean().reset_index()\n",
    "temp_price_sum = df_2.groupby(['InvoiceYear', 'InvoiceMonth'])['Price'].sum().reset_index()\n",
    "temp_price_mean = df_2.groupby(['InvoiceYear', 'InvoiceMonth'])['Price'].mean().reset_index()\n",
    "\n",
    "fig, axes = plt.subplots(nrows=3, ncols=2, figsize=(16, 9))\n",
    "sns.set_style('whitegrid')\n",
    "\n",
    "sns.lineplot(ax=axes[0, 0], data=temp_sales_sum, x='InvoiceMonth', y='Total_Sales', hue='InvoiceYear')\n",
    "axes[0, 0].set_xlabel('Month')\n",
    "axes[0, 0].set_ylabel('Total Sales')\n",
    "axes[0, 0].set_title('Sum of Total Sales by Month')\n",
    "\n",
    "sns.set_style('whitegrid')\n",
    "sns.lineplot(ax=axes[0, 1], data=temp_sales_mean, x='InvoiceMonth', y='Total_Sales', hue='InvoiceYear')\n",
    "axes[0, 1].set_xlabel('Month')\n",
    "axes[0, 1].set_ylabel('Total Sales')\n",
    "axes[0, 1].set_title('Average of Total Sales (per transaction) by Month')\n",
    "\n",
    "sns.set_style('whitegrid')\n",
    "sns.lineplot(ax=axes[1, 0], data=temp_qty_sum, x='InvoiceMonth', y='Quantity', hue='InvoiceYear')\n",
    "axes[1, 0].set_xlabel('Month')\n",
    "axes[1, 0].set_ylabel('Quantity')\n",
    "axes[1, 0].set_title('Sum Quantity by Month')\n",
    "\n",
    "sns.set_style('whitegrid')\n",
    "sns.lineplot(ax=axes[1, 1], data=temp_qty_mean, x='InvoiceMonth', y='Quantity', hue='InvoiceYear')\n",
    "axes[1, 1].set_xlabel('Month')\n",
    "axes[1, 1].set_ylabel('Quantity')\n",
    "axes[1, 1].set_title('Average Quantity (per transaction) by Month')\n",
    "\n",
    "sns.set_style('whitegrid')\n",
    "sns.lineplot(ax=axes[2, 0], data=temp_price_mean, x='InvoiceMonth', y='Price', hue='InvoiceYear')\n",
    "axes[2, 0].set_xlabel('Month')\n",
    "axes[2, 0].set_ylabel('Price')\n",
    "axes[2, 0].set_title('Average Price (per transaction) by Month')\n",
    "plt.tight_layout()\n",
    "plt.show()\n"
   ]
  },
  {
   "cell_type": "code",
   "execution_count": null,
   "metadata": {},
   "outputs": [],
   "source": [
    "#pair plot\n",
    "plt.figure(figsize=(16,16))\n",
    "fig = sns.pairplot(data=df_2[['Quantity', 'Price', 'Total_Sales']])\n",
    "fig.fig.suptitle('Pair plot of Quantity, Price and Total Sales')\n",
    "plt.subplots_adjust(top=0.95)\n",
    "plt.show()\n",
    "\n"
   ]
  },
  {
   "attachments": {},
   "cell_type": "markdown",
   "metadata": {},
   "source": [
    "Scatter plot and regression line using sklearn"
   ]
  },
  {
   "cell_type": "code",
   "execution_count": null,
   "metadata": {},
   "outputs": [],
   "source": [
    "lr = LinearRegression()\n",
    "X = df_2['Quantity'].values.reshape(-1,1)\n",
    "y = df_2['Price'].values.reshape(-1,1)\n",
    "lr.fit(X, y)\n",
    "y_pred = lr.predict(X)\n",
    "plt.figure(figsize=(16,9))\n",
    "sns.scatterplot(data=df_2, x='Quantity', y='Price')\n",
    "sns.lineplot(x=X.reshape(-1), y=y_pred.reshape(-1), color='red')\n",
    "plt.title('Scatter plot with regression line')\n",
    "plt.xlabel('Quantity')\n",
    "plt.ylabel('Price')\n",
    "plt.show()"
   ]
  },
  {
   "cell_type": "code",
   "execution_count": null,
   "metadata": {},
   "outputs": [],
   "source": [
    "#Multivariate Box plot\n",
    "plt.figure(figsize=(16,9))\n",
    "sns.set_style('whitegrid')\n",
    "sns.boxplot(x='Country', y='Total_Sales', hue='InvoiceYear', data=df_2)\n",
    "plt.xticks(rotation=45, ha='right')\n",
    "plt.title('Box plot of Total Sales by Category and Country')\n",
    "plt.xlabel('Category')\n",
    "plt.ylabel('Total Sales')\n",
    "plt.legend(loc='upper right')\n",
    "plt.show()\n"
   ]
  },
  {
   "attachments": {},
   "cell_type": "markdown",
   "metadata": {},
   "source": [
    "Dashboard"
   ]
  },
  {
   "cell_type": "code",
   "execution_count": 1,
   "metadata": {},
   "outputs": [
    {
     "name": "stderr",
     "output_type": "stream",
     "text": [
      "C:\\Users\\admin\\AppData\\Local\\Temp\\ipykernel_15728\\4035614954.py:47: FutureWarning: Automatic reindexing on DataFrame vs Series comparisons is deprecated and will raise ValueError in a future version.  Do `left, right = left.align(right, axis=1, copy=False)` before e.g. `left == right`\n",
      "  outliers = (df < lower_bound) | (df > upper_bound)\n"
     ]
    },
    {
     "name": "stdout",
     "output_type": "stream",
     "text": [
      "  Invoice StockCode                          Description  Quantity  \\\n",
      "0  489434     85048  15CM CHRISTMAS GLASS BALL 20 LIGHTS      12.0   \n",
      "1  489434    79323P                   PINK CHERRY LIGHTS      12.0   \n",
      "2  489434    79323W                  WHITE CHERRY LIGHTS      12.0   \n",
      "4  489434     21232       STRAWBERRY CERAMIC TRINKET BOX      24.0   \n",
      "5  489434     22064           PINK DOUGHNUT TRINKET POT       24.0   \n",
      "\n",
      "          InvoiceDate  Price Customer ID         Country  InvoiceYear  \\\n",
      "0 2009-12-01 07:45:00   6.95     13085.0  United Kingdom         2009   \n",
      "1 2009-12-01 07:45:00   6.75     13085.0  United Kingdom         2009   \n",
      "2 2009-12-01 07:45:00   6.75     13085.0  United Kingdom         2009   \n",
      "4 2009-12-01 07:45:00   1.25     13085.0  United Kingdom         2009   \n",
      "5 2009-12-01 07:45:00   1.65     13085.0  United Kingdom         2009   \n",
      "\n",
      "   InvoiceMonth  Total_Sales  \n",
      "0            12         83.4  \n",
      "1            12         81.0  \n",
      "2            12         81.0  \n",
      "4            12         30.0  \n",
      "5            12         39.6  \n",
      "Dash is running on http://0.0.0.0:8056/\n",
      "\n",
      " * Serving Flask app 'My app'\n",
      " * Debug mode: off\n"
     ]
    },
    {
     "name": "stderr",
     "output_type": "stream",
     "text": [
      "WARNING: This is a development server. Do not use it in a production deployment. Use a production WSGI server instead.\n",
      " * Running on all addresses (0.0.0.0)\n",
      " * Running on http://127.0.0.1:8056\n",
      " * Running on http://192.168.1.154:8056\n",
      "Press CTRL+C to quit\n",
      "127.0.0.1 - - [09/May/2023 11:46:06] \"GET / HTTP/1.1\" 200 -\n",
      "127.0.0.1 - - [09/May/2023 11:46:06] \"GET /_dash-layout HTTP/1.1\" 200 -\n",
      "127.0.0.1 - - [09/May/2023 11:46:06] \"GET /_dash-dependencies HTTP/1.1\" 200 -\n",
      "127.0.0.1 - - [09/May/2023 11:46:06] \"POST /_dash-update-component HTTP/1.1\" 200 -\n",
      "127.0.0.1 - - [09/May/2023 11:46:08] \"POST /_dash-update-component HTTP/1.1\" 200 -\n",
      "127.0.0.1 - - [09/May/2023 11:46:08] \"GET /_dash-component-suites/dash/dcc/async-dropdown.js HTTP/1.1\" 304 -\n",
      "127.0.0.1 - - [09/May/2023 11:46:08] \"GET /_dash-component-suites/dash/dcc/async-graph.js HTTP/1.1\" 304 -\n",
      "127.0.0.1 - - [09/May/2023 11:46:08] \"GET /_dash-component-suites/dash/dcc/async-plotlyjs.js HTTP/1.1\" 304 -\n",
      "127.0.0.1 - - [09/May/2023 11:46:09] \"POST /_dash-update-component HTTP/1.1\" 200 -\n",
      "127.0.0.1 - - [09/May/2023 11:47:52] \"POST /_dash-update-component HTTP/1.1\" 200 -\n",
      "127.0.0.1 - - [09/May/2023 11:47:53] \"POST /_dash-update-component HTTP/1.1\" 200 -\n"
     ]
    }
   ],
   "source": [
    "#%%\n",
    "import dash as dash\n",
    "from dash import html \n",
    "from dash import dcc \n",
    "from dash.dependencies import Input, Output \n",
    "import plotly.express as px \n",
    "import pandas as pd \n",
    "import matplotlib.pyplot as plt\n",
    "import matplotlib.dates as mdates\n",
    "import numpy as np\n",
    "from scipy.fft import fft\n",
    "from scipy.fft import fftfreq\n",
    "import base64\n",
    "from dash import dash_table\n",
    "from dash.dependencies import Input, Output, State\n",
    "\n",
    "external_stylesheets = ['https://codepen.io/chriddyp/pen/bWLwgP.css'] \n",
    "my_app = dash.Dash('My app', external_stylesheets = external_stylesheets)\n",
    "#%% Main file:\n",
    "\n",
    "my_app.layout = html.Div([html.H1('Final Project', style={'textAlign': 'center'}),\n",
    "                          html.H2('Study of Online Retail', style={'textAlign': 'center'}),\n",
    "                          html.H5('Author: Jiazu Zhang',style={'textAlign': 'right'}),\n",
    "                          html.Br(),\n",
    "                          dcc.Tabs(id = 'hw-questions',\n",
    "                                   children = [\n",
    "                                       dcc.Tab(label = 'Graph of Selected Year', value = 'q1'),\n",
    "                                       dcc.Tab(label = 'Purchase History Search', value = 'q2'),\n",
    "                                       dcc.Tab(label = 'Statistical Graph Explorer', value = 'q3'),\n",
    "                                   ]),\n",
    "                          html.Div(id = 'layout')\n",
    "]                 \n",
    ")\n",
    "#%% Part 1\n",
    "df_before = pd.read_csv('online_retail_II_B2010.csv')\n",
    "df_after = pd.read_csv('online_retail_II_After2010.csv')\n",
    "frame = [df_before, df_after]\n",
    "df = pd.concat(frame)\n",
    "df = df.dropna()\n",
    "df = df.drop_duplicates()\n",
    "\n",
    "df['InvoiceDate'] = pd.to_datetime(df['InvoiceDate'])\n",
    "df['InvoiceYear'] = df['InvoiceDate'].dt.year\n",
    "df['InvoiceMonth'] = df['InvoiceDate'].dt.month\n",
    "df['Total_Sales'] = df['Price'] * df['Quantity']\n",
    "\n",
    "part1_layout = html.Div([\n",
    "    html.H3('Graph of Sum/Average/Median of Price/Quantity/Total Sales for Selected Year', style={'textAlign': 'left'}),\n",
    "    dcc.Graph(id='my-graph'),\n",
    "    html.P(\"Select the Year\"),\n",
    "    dcc.Slider(\n",
    "        id='year-slider',\n",
    "        min=df['InvoiceYear'].min(),\n",
    "        max=df['InvoiceYear'].max(),\n",
    "        step=1,\n",
    "        value=df['InvoiceYear'].min(),\n",
    "        marks={str(year): str(year) for year in df['InvoiceYear'].unique()},\n",
    "    ),\n",
    "    html.P(\"Pick the Method:\"),\n",
    "    dcc.Dropdown(id='method',\n",
    "                 options=[\n",
    "                     {'label': 'Sum', 'value': 'Sum'},\n",
    "                     {'label': 'Average', 'value': 'Average'},\n",
    "                     {'label': 'Median', 'value': 'Median'},\n",
    "                 ],\n",
    "                 value='Sum',\n",
    "                 multi=False),\n",
    "    html.P(\"Pick the Target:\"),\n",
    "    dcc.Dropdown(id='target',\n",
    "                 options=[\n",
    "                     {'label': 'Total Sales', 'value': 'Total_Sales'},\n",
    "                     {'label': 'Quantity', 'value': 'Quantity'},\n",
    "                     {'label': 'Price', 'value': 'Price'},\n",
    "                 ],\n",
    "                 value='Total_Sales',\n",
    "                 multi=False),\n",
    "])\n",
    "\n",
    "@my_app.callback(\n",
    "    Output(component_id='my-graph', component_property='figure'),\n",
    "    [Input(component_id='year-slider', component_property='value'),\n",
    "     Input(component_id='method', component_property='value'),\n",
    "     Input(component_id='target', component_property='value')]\n",
    ")\n",
    "def update_figure(year, method, target):\n",
    "    df_filtered = df[df['InvoiceYear'] == year]\n",
    "    if method == 'Sum':\n",
    "        if target == 'Total_Sales':\n",
    "            temp = df_filtered.groupby(['InvoiceYear', 'InvoiceMonth'])['Total_Sales'].sum().reset_index()\n",
    "        elif target == 'Quantity':\n",
    "            temp = df_filtered.groupby(['InvoiceYear', 'InvoiceMonth'])['Quantity'].sum().reset_index()\n",
    "        elif target == 'Price':\n",
    "            temp = df_filtered.groupby(['InvoiceYear', 'InvoiceMonth'])['Price'].sum().reset_index()\n",
    "    elif method == 'Average':\n",
    "        if target == 'Total_Sales':\n",
    "            temp = df_filtered.groupby(['InvoiceYear', 'InvoiceMonth'])['Total_Sales'].mean().reset_index()\n",
    "        elif target == 'Quantity':\n",
    "            temp = df_filtered.groupby(['InvoiceYear', 'InvoiceMonth'])['Quantity'].mean().reset_index()\n",
    "        elif target == 'Price':\n",
    "            temp = df_filtered.groupby(['InvoiceYear', 'InvoiceMonth'])['Price'].mean().reset_index()\n",
    "    elif method == 'Median':\n",
    "        if target == 'Total_Sales':\n",
    "            temp = df_filtered.groupby(['InvoiceYear', 'InvoiceMonth'])['Total_Sales'].median().reset_index()\n",
    "        elif target == 'Quantity':\n",
    "            temp = df_filtered.groupby(['InvoiceYear', 'InvoiceMonth'])['Quantity'].median().reset_index()\n",
    "        elif target == 'Price':\n",
    "            temp = df_filtered.groupby(['InvoiceYear', 'InvoiceMonth'])['Price'].median().reset_index()    \n",
    "    fig = px.line(temp, x='InvoiceMonth', y=target)\n",
    "    \n",
    "    return fig\n",
    "\n",
    "\n",
    "# %% Part 2:\n",
    "df['Customer ID'] = df['Customer ID'].astype(str)\n",
    "print(df.head())\n",
    "\n",
    "part2_layout = html.Div([\n",
    "    html.H3('Data Search Engine', style={'textAlign': 'left'}),\n",
    "    \n",
    "    html.Br(),\n",
    "    html.P('Please first select the key you want to search.'),\n",
    "    dcc.Dropdown(id='key',\n",
    "                 options=[\n",
    "                     {'label': 'Invoice', 'value': 'Invoice'},\n",
    "                     {'label': 'StockCode', 'value': 'StockCode'},\n",
    "                     {'label': 'Customer ID', 'value': 'Customer ID'},\n",
    "                     {'label': 'Country', 'value': 'Country'},\n",
    "                     {'label': 'Description', 'value': 'Description'},\n",
    "                 ],\n",
    "                 value='Invoice',\n",
    "                 multi=False),\n",
    "    \n",
    "    html.Br(),\n",
    "    dcc.Input(id='input', value='', type='text'),\n",
    "    html.Button('Submit', id='submit'),\n",
    "    html.Div(id='output')\n",
    "])\n",
    "\n",
    "@my_app.callback(\n",
    "    Output('output', 'children'),\n",
    "    [Input('submit', 'n_clicks')],\n",
    "    [State('key', 'value'),\n",
    "     State('input', 'value')])\n",
    "\n",
    "def update_output(n_clicks,key,value):\n",
    "    if not value:\n",
    "        return html.Div(f'Please enter a {key}.')\n",
    "    else:\n",
    "        filtered_df = df[df[key] == value]\n",
    "        if filtered_df.empty:\n",
    "            return html.Div(f'{key} not found.')\n",
    "        else:\n",
    "            return dash_table.DataTable(\n",
    "                id='table',\n",
    "                columns=[{\"name\": i, \"id\": i} for i in filtered_df.columns],\n",
    "                data=filtered_df.to_dict('records'),\n",
    "                export_format=\"csv\"\n",
    "            )\n",
    "\n",
    "\n",
    "\n",
    "# %% Part 3:\n",
    "\n",
    "part3_layout = html.Div([\n",
    "    html.H3('Statistical Graph Explorer', style={'textAlign': 'left'}),\n",
    "    \n",
    "    html.Br(),\n",
    "    html.P('Please select the graph you want to see:'),\n",
    "    dcc.RadioItems(id='graph',\n",
    "                 options=[\n",
    "                     {'label': 'Box plot', 'value': 'Box plot'},\n",
    "                     {'label': 'Violin plot', 'value': 'Violin plot'},\n",
    "                     {'label' : 'Hist-plot', 'value': 'Histplot'},\n",
    "                     {'label': 'Pie-chart (Will display all countries)', 'value': 'Pie-chart'},\n",
    "                 ],\n",
    "                 value='Box plot',\n",
    "                 ),\n",
    "    \n",
    "    html.Br(),\n",
    "    html.P(\"Please select the country you want to explor:\"),\n",
    "    dcc.Dropdown(id= 'Country',\n",
    "                 options = [\n",
    "                     {'label': 'United Kingdom','value': 'United Kingdom'},    \n",
    "                     {'label': 'France','value': 'France'},    \n",
    "                     {'label': 'Australia', 'value': 'Australia'},    \n",
    "                     {'label': 'EIRE', 'value': 'EIRE'},    \n",
    "                     {'label': 'Germany','value': 'Germany'},    \n",
    "                     {'label': 'Portugal', 'value': 'Portugal'},    \n",
    "                     {'label': 'Poland', 'value': 'Poland'},    \n",
    "                     {'label': 'Spain', 'value': 'Spain'},    \n",
    "                     {'label': 'Channel Islands', 'value': 'Channel Islands'},    \n",
    "                     {'label': 'Netherlands', 'value': 'Netherlands'},    \n",
    "                     {'label': 'Italy', 'value': 'Italy'},    \n",
    "                     {'label': 'Cyprus', 'value': 'Cyprus'},    \n",
    "                     {'label': 'Belgium', 'value': 'Belgium'},    \n",
    "                     {'label': 'Greece', 'value': 'Greece'},    \n",
    "                     {'label': 'Norway', 'value': 'Norway'},    \n",
    "                     {'label': 'Austria', 'value': 'Austria'},    \n",
    "                     {'label': 'Denmark', 'value': 'Denmark'},    \n",
    "                     {'label': 'United Arab Emirates', 'value': 'United Arab Emirates'},    \n",
    "                     {'label': 'Finland', 'value': 'Finland'},    \n",
    "                     {'label': 'Switzerland', 'value': 'Switzerland'},    \n",
    "                     {'label': 'Sweden', 'value': 'Sweden'},    \n",
    "                     {'label': 'USA', 'value': 'USA'},    \n",
    "                     {'label': 'Japan', 'value': 'Japan'},    \n",
    "                     {'label': 'Unspecified', 'value': 'Unspecified'},    \n",
    "                     {'label': 'Malta', 'value': 'Malta'},    \n",
    "                     {'label': 'RSA', 'value': 'RSA'},    \n",
    "                     {'label': 'Singapore', 'value': 'Singapore'},    \n",
    "                     {'label': 'Bahrain', 'value': 'Bahrain'},    \n",
    "                     {'label': 'Israel', 'value': 'Israel'},    \n",
    "                     {'label': 'Thailand', 'value': 'Thailand'},    \n",
    "                     {'label': 'Lithuania', 'value': 'Lithuania'},    \n",
    "                     {'label': 'Nigeria', 'value': 'Nigeria'},    \n",
    "                     {'label': 'West Indies', 'value': 'West Indies'},    \n",
    "                     {'label': 'Korea', 'value': 'Korea'},    \n",
    "                     {'label': 'Brazil', 'value': 'Brazil'},    \n",
    "                     {'label': 'Canada', 'value': 'Canada'},    \n",
    "                     {'label': 'Iceland', 'value': 'Iceland'},    \n",
    "                     {'label': 'Lebanon', 'value': 'Lebanon'},    \n",
    "                     {'label': 'Saudi Arabia', 'value': 'Saudi Arabia'},\n",
    "                     {'label': 'Czech Republic', 'value': 'Czech Republic'},\n",
    "                     {'label': 'European Community', 'value': 'European Community'},\n",
    "                 ],\n",
    "                 value = 'United Kingdom',\n",
    "                 multi = False),\n",
    "    \n",
    "    html.Br(),\n",
    "    html.P(\"Please Select the data column you want to explor:\"),\n",
    "    dcc.RadioItems(id='column',\n",
    "                 options=[\n",
    "                     {'label': 'Price', 'value': 'Price'},\n",
    "                     {'label': 'Quantity', 'value': 'Quantity'},\n",
    "                     {'label': 'Total Sales', 'value': 'Total_Sales'},\n",
    "                 ],\n",
    "                 value='Price'\n",
    "                 ),    \n",
    "    html.Br(),\n",
    "    dcc.Graph(id = 'finalgraph'),\n",
    "    \n",
    "])\n",
    "\n",
    "@my_app.callback(\n",
    "        [Output(component_id= 'finalgraph',component_property= 'figure')],\n",
    "         [Input(component_id='graph', component_property='value'),\n",
    "          Input(component_id='Country', component_property='value'),\n",
    "          Input(component_id='column', component_property='value')]\n",
    ")\n",
    "\n",
    "def output(graph, country, column):\n",
    "    if graph == 'Box plot':\n",
    "        fig = px.box(df[df['Country'] == country], y=column, x='InvoiceYear')\n",
    "        return (fig,)\n",
    "    elif graph == 'Violin plot':\n",
    "        fig = px.violin(df[df['Country'] == country], y=column, x='InvoiceYear', box=True)\n",
    "        return (fig,)\n",
    "    elif graph == 'Pie-chart':\n",
    "        temp2 = df.groupby(['Country']).sum().reset_index()\n",
    "        fig = px.pie(temp2, values=column, names='Country', title=f'{column}% of countries', height=1000, width=800)\n",
    "        fig.update_traces(textposition='inside', textinfo='percent+label')\n",
    "        fig.update_layout(legend_title='Country')\n",
    "        return (fig,)\n",
    "    elif graph == 'Histplot':\n",
    "        fig = px.histogram(df[df['Country'] == country], x = 'InvoiceYear', y = column,color= 'InvoiceMonth', barmode= 'group' )\n",
    "        return (fig,)\n",
    "\n",
    "\n",
    "\n",
    "\n",
    "@my_app.callback(Output(component_id='layout', component_property='children'),\n",
    "                 [Input(component_id='hw-questions', component_property='value')])\n",
    "\n",
    "def update_layout(ques):\n",
    "    if ques == 'q1':\n",
    "        return part1_layout\n",
    "    elif ques == 'q2':\n",
    "        return part2_layout\n",
    "    elif ques == 'q3':\n",
    "        return part3_layout\n",
    "\n",
    "\n",
    "\n",
    "my_app.run_server(\n",
    "        port=8056,\n",
    "        host='0.0.0.0')\n",
    "# %%\n"
   ]
  }
 ],
 "metadata": {
  "kernelspec": {
   "display_name": "Python 3",
   "language": "python",
   "name": "python3"
  },
  "language_info": {
   "codemirror_mode": {
    "name": "ipython",
    "version": 3
   },
   "file_extension": ".py",
   "mimetype": "text/x-python",
   "name": "python",
   "nbconvert_exporter": "python",
   "pygments_lexer": "ipython3",
   "version": "3.8.10"
  },
  "orig_nbformat": 4
 },
 "nbformat": 4,
 "nbformat_minor": 2
}
